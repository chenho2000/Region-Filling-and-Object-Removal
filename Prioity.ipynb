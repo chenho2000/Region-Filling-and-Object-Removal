{
  "nbformat": 4,
  "nbformat_minor": 0,
  "metadata": {
    "colab": {
      "name": "Prioity",
      "provenance": [],
      "collapsed_sections": []
    },
    "kernelspec": {
      "name": "python3",
      "display_name": "Python 3"
    }
  },
  "cells": [
    {
      "cell_type": "code",
      "metadata": {
        "colab": {
          "base_uri": "https://localhost:8080/"
        },
        "id": "YhNq3-2Pn2Rj",
        "outputId": "dd818f3e-c028-4992-b59b-49610bba430d"
      },
      "source": [
        "# first mount your google drive\r\n",
        "from google.colab import drive\r\n",
        "\r\n",
        "# This will prompt for authorization.\r\n",
        "drive.mount('/content/drive')\r\n",
        "!ls \"/content/drive/My Drive/CSC420/Project\""
      ],
      "execution_count": null,
      "outputs": [
        {
          "output_type": "stream",
          "text": [
            "Mounted at /content/drive\n",
            "img.png  mask.png  Priority.ipynb\n"
          ],
          "name": "stdout"
        }
      ]
    },
    {
      "cell_type": "code",
      "metadata": {
        "id": "9SoNBqPQkb2U"
      },
      "source": [
        "# the usual\r\n",
        "import numpy as np\r\n",
        "import matplotlib.pyplot as plt\r\n",
        "import cv2\r\n",
        "from skimage import feature"
      ],
      "execution_count": 38,
      "outputs": []
    },
    {
      "cell_type": "code",
      "metadata": {
        "id": "uGqsGzR8gdTs"
      },
      "source": [
        "# Get source region and target region and init confidence\r\n",
        "def load_image(image1, image2):\r\n",
        "    image = cv2.imread(image1)\r\n",
        "    image = cv2.cvtColor(image, cv2.COLOR_BGR2GRAY)\r\n",
        "    mask = cv2.imread(image2)\r\n",
        "    mask = cv2.cvtColor(mask, cv2.COLOR_BGR2GRAY)\r\n",
        "    confidence = (mask == 0).astype('float')\r\n",
        "    return image, mask, confidence"
      ],
      "execution_count": 42,
      "outputs": []
    },
    {
      "cell_type": "code",
      "metadata": {
        "id": "NwrWFDGXnjQg"
      },
      "source": [
        "image, mask, confidence = load_image(\"/content/drive/My Drive/CSC420/Project/img.png\",\"/content/drive/My Drive/CSC420/Project/mask.png\")"
      ],
      "execution_count": 43,
      "outputs": []
    },
    {
      "cell_type": "code",
      "metadata": {
        "id": "LV30sVuPjOhA"
      },
      "source": [
        "# Use edge detection to get front fill Delta Omega from mask image\r\n",
        "def get_front_fill(mask):\r\n",
        "  ff = cv2.Scharr(mask, cv2.CV_64F)\r\n",
        "  itemindex = np.where(ff==1)\r\n",
        "  return itemindex"
      ],
      "execution_count": 124,
      "outputs": []
    },
    {
      "cell_type": "code",
      "metadata": {
        "id": "LXDIzzfYjOZF"
      },
      "source": [
        "# Use point axis and window_size to get the range of patch psi P(2X2 array)\r\n",
        "def patch(image,point, window_size):\r\n",
        "  iy,ix = image.shape\r\n",
        "  x, y = point\r\n",
        "  size = window_size[0]//2\r\n",
        "  x_1 = max(x - size, 0)\r\n",
        "  y_1 = max(y - size, 0)\r\n",
        "  x_2 = min(x + size, ix - 1)\r\n",
        "  y_2 = min(y + size, iy - 1)\r\n",
        "  return [(x_1, y_1),(x_2, y_2)]"
      ],
      "execution_count": 159,
      "outputs": []
    },
    {
      "cell_type": "code",
      "metadata": {
        "id": "uHYT2fcdjRoE"
      },
      "source": [
        "# compute point p confidence\r\n",
        "def compute_confidence(confidence, point, mask, window_size):\r\n",
        "  psiP = patch(mask, point, window_size)\r\n",
        "  x_1, y_1 = psiP[0]\r\n",
        "  x_2, y_2 = psiP[1]\r\n",
        "  area = (x_2-x_1) * (y_2-y_1)\r\n",
        "  t_sum = 0\r\n",
        "  for i in range(x_1, x_2 + 1):\r\n",
        "      for j in range(y_1, y_2 + 1):\r\n",
        "          if mask[j, i] == 0:\r\n",
        "              t_sum += confidence[j, i]\r\n",
        "  confidence[point[1],point[0]] = t_sum / area\r\n",
        "  return confidence,t_sum / area"
      ],
      "execution_count": 264,
      "outputs": []
    },
    {
      "cell_type": "code",
      "metadata": {
        "id": "64giYEnLjS6H"
      },
      "source": [
        "# Get the gradient of isophote around the patch\r\n",
        "def compute_gradient(image,mask):\r\n",
        "  alpha = 255\r\n",
        "  gx = (cv2.Scharr(image, cv2.CV_64F, 1, 0))/alpha\r\n",
        "  gy = (cv2.Scharr(image, cv2.CV_64F, 0, 1))/alpha\r\n",
        "  gx[mask==1]=0\r\n",
        "  gy[mask==1]=0\r\n",
        "  return gx,gy"
      ],
      "execution_count": 243,
      "outputs": []
    },
    {
      "cell_type": "code",
      "metadata": {
        "id": "uK-qtlDEjUCH"
      },
      "source": [
        "# Get the unit vector of the normal on front fill\r\n",
        "def compute_normal(front_fill,mask):\r\n",
        "  gx = cv2.Scharr(mask, cv2.CV_64F, 1, 0)\r\n",
        "  gy = cv2.Scharr(mask, cv2.CV_64F, 0, 1)\r\n",
        "  normal = []\r\n",
        "  for i in range(len(front_fill[0])):\r\n",
        "    x,y = front_fill[1][i], front_fill[0][i]\r\n",
        "    norm = np.sqrt(gx[y,x]**2 + gy[y,x]**2)\r\n",
        "    if norm != 0:\r\n",
        "      normal.append([gy[y,x]/norm,-gx[y,x]/norm])\r\n",
        "    else:\r\n",
        "      normal.append([gy[y,x],-gx[y,x]])\r\n",
        "  return normal\r\n"
      ],
      "execution_count": 211,
      "outputs": []
    },
    {
      "cell_type": "code",
      "metadata": {
        "id": "D5ra4rIVjVDi"
      },
      "source": [
        "# Compute data term by equation\r\n",
        "def compute_data(nalba_Ip, normal, point, point_num):\r\n",
        "  x,y = point\r\n",
        "  alpha = 255\r\n",
        "  data = (np.sqrt((nalba_Ip[0][y,x] * normal[point_num][0])**2 + (nalba_Ip[1][y,x] * normal[point_num][1])**2)) / alpha\r\n",
        "  return data"
      ],
      "execution_count": 239,
      "outputs": []
    },
    {
      "cell_type": "code",
      "metadata": {
        "id": "ooP9U2tUjWGN"
      },
      "source": [
        "# Compute priority for point P\r\n",
        "def compute_priority(confidence, data):\r\n",
        "  priority = confidence * data\r\n",
        "  return priority\r\n"
      ],
      "execution_count": 231,
      "outputs": []
    },
    {
      "cell_type": "code",
      "metadata": {
        "id": "KeX6jdbgXrZ-"
      },
      "source": [
        "image, mask, confidence = load_image(\"/content/drive/My Drive/CSC420/Project/img.png\",\"/content/drive/My Drive/CSC420/Project/mask.png\")\r\n",
        "window_size = (3,3)\r\n",
        "front_fill = get_front_fill(mask)\r\n",
        "nalba_Ip = compute_gradient(image,mask)\r\n",
        "normal = compute_normal(front_fill,mask)\r\n",
        "ff_priority = []\r\n",
        "for i in range(len(front_fill[0])):\r\n",
        "  curr = (front_fill[1][i],front_fill[0][i])\r\n",
        "  confidence, curr_confidence = compute_confidence(confidence,curr,mask,window_size)\r\n",
        "  curr_data = compute_data(nalba_Ip,normal,curr,i)\r\n",
        "  ff_priority.append(compute_priority(curr_confidence,curr_data))\r\n",
        "curr_max = np.argmax(ff_priority)\r\n",
        "curr_idx = (front_fill[1][curr_max],front_fill[0][curr_max])"
      ],
      "execution_count": 265,
      "outputs": []
    },
    {
      "cell_type": "code",
      "metadata": {
        "id": "LtlRFyUtjXLH"
      },
      "source": [
        "#Update confidence in intersection aera of sai P_hat and omega with C(P_hat)\r\n",
        "def update_confidence(confidence, saiP_hat, P_hat):\r\n",
        "  px,py = P_hat\r\n",
        "  curr = confidence[py,px]\r\n",
        "  x_1, y_1 = saiP_hat[0]\r\n",
        "  x_2, y_2 = saiP_hat[1]\r\n",
        "  for i in range(x_1, x_2 + 1):\r\n",
        "      for j in range(y_1, y_2 + 1):\r\n",
        "        if confidence[j,i] ==0:\r\n",
        "          confidence[j,i] = curr\r\n",
        "    return confidence"
      ],
      "execution_count": null,
      "outputs": []
    }
  ]
}